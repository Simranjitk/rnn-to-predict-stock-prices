{
 "cells": [
  {
   "cell_type": "code",
   "execution_count": 66,
   "metadata": {},
   "outputs": [],
   "source": [
    "import numpy as np\n",
    "import matplotlib.pyplot as plt\n",
    "import pandas as pd\n",
    "import pandas_datareader.data as web \n",
    "from pandas import datetime\n",
    "import math, time\n",
    "import itertools\n",
    "from sklearn import preprocessing\n",
    "import datetime\n",
    "from operator import itemgetter\n",
    "from sklearn.metrics import mean_squared_error\n",
    "from math import sqrt\n",
    "from keras.models import Sequential\n",
    "from keras.layers.core import Dense, Dropout, Activation\n",
    "from keras.layers.recurrent import LSTM"
   ]
  },
  {
   "cell_type": "markdown",
   "metadata": {},
   "source": [
    "### Stock data function configured to get past stock pricing information and drop all columns except 'Open', 'High', and 'Close'"
   ]
  },
  {
   "cell_type": "code",
   "execution_count": 4,
   "metadata": {},
   "outputs": [],
   "source": [
    "def get_stock_data(stock_name, normalized=0):\n",
    "    start = datetime.datetime(2013, 10, 20)\n",
    "    end = datetime.datetime(2018, 11, 8)\n",
    "\n",
    "    stocks = web.DataReader(stock_name, 'iex', start, end)\n",
    "    df = pd.DataFrame(stocks)\n",
    "    df.drop(['low', 'volume'], axis = 1, inplace=True)\n",
    "    print(df.head())\n",
    "    return df"
   ]
  },
  {
   "cell_type": "code",
   "execution_count": 5,
   "metadata": {},
   "outputs": [
    {
     "name": "stdout",
     "output_type": "stream",
     "text": [
      "                open      high     close\n",
      "date                                    \n",
      "2013-11-08  504.8794  509.7593  508.5230\n",
      "2013-11-11  505.2598  508.4730  505.8003\n",
      "2013-11-12  504.3539  509.2888  506.3959\n",
      "2013-11-13  503.8784  516.9414  516.7512\n",
      "2013-11-14  517.4770  520.3949  518.1326\n"
     ]
    }
   ],
   "source": [
    "stock_name = 'GOOGL'\n",
    "df = get_stock_data(stock_name, 0)"
   ]
  },
  {
   "cell_type": "markdown",
   "metadata": {},
   "source": [
    "### Save the stock information to a CSV"
   ]
  },
  {
   "cell_type": "code",
   "execution_count": 6,
   "metadata": {},
   "outputs": [],
   "source": [
    "today = datetime.date.today()\n",
    "file_name = stock_name+'_stock_%s.csv' % today\n",
    "df.to_csv(file_name)"
   ]
  },
  {
   "cell_type": "code",
   "execution_count": 7,
   "metadata": {},
   "outputs": [
    {
     "name": "stdout",
     "output_type": "stream",
     "text": [
      "                open      high     close\n",
      "date                                    \n",
      "2013-11-08  0.504879  0.509759  0.508523\n",
      "2013-11-11  0.505260  0.508473  0.505800\n",
      "2013-11-12  0.504354  0.509289  0.506396\n",
      "2013-11-13  0.503878  0.516941  0.516751\n",
      "2013-11-14  0.517477  0.520395  0.518133\n"
     ]
    }
   ],
   "source": [
    "df['high'] = df['high'] / 1000\n",
    "df['open'] = df['open'] / 1000\n",
    "df['close'] = df['close'] / 1000\n",
    "print(df.head(5))"
   ]
  },
  {
   "cell_type": "markdown",
   "metadata": {},
   "source": [
    "### Loading the data function"
   ]
  },
  {
   "cell_type": "code",
   "execution_count": 56,
   "metadata": {},
   "outputs": [],
   "source": [
    "def load_data(stock, seq_len):\n",
    "    amount_of_features = len(stock.columns)\n",
    "    data = pd.DataFrame(stock).values\n",
    "    sequence_length = seq_len + 1\n",
    "    result = [] \n",
    "    for index in range(len(data) - sequence_length):\n",
    "        result.append(data[index: index + sequence_length])\n",
    "    \n",
    "    result = np.array(result)\n",
    "    row = round(0.9 * result.shape[0])\n",
    "    train = result[:int(row), :]\n",
    "    x_train = train[:, :-1]\n",
    "    y_train = train[:, -1][:, -1]\n",
    "    x_test = result[int(row):, :-1]\n",
    "    y_test = result[int(row):, -1][:, -1]\n",
    "\n",
    "    x_train = np.reshape(x_train, (x_train.shape[0], x_train.shape[1], amount_of_features))\n",
    "    x_test = np.reshape(x_test, (x_test.shape[0], x_test.shape[1], amount_of_features))\n",
    "\n",
    "    return [x_train, y_train, x_test, y_test]"
   ]
  },
  {
   "cell_type": "markdown",
   "metadata": {},
   "source": [
    "### Building the model function"
   ]
  },
  {
   "cell_type": "code",
   "execution_count": 57,
   "metadata": {},
   "outputs": [],
   "source": [
    "def build_model(layers):\n",
    "    d = 0.2\n",
    "    model = Sequential()\n",
    "    model.add(LSTM(128, input_shape=(layers[1], layers[0]), return_sequences=True))\n",
    "    model.add(Dropout(d))\n",
    "    model.add(LSTM(64, input_shape=(layers[1], layers[0]), return_sequences=False))\n",
    "    model.add(Dropout(d))\n",
    "    model.add(Dense(16, kernel_initializer='uniform', activation='relu'))\n",
    "    model.add(Dense(1, kernel_initializer='uniform', activation='relu'))\n",
    "    model.compile(loss='mse', optimizer='adam', metrics=['accuracy'])\n",
    "    return model"
   ]
  },
  {
   "cell_type": "markdown",
   "metadata": {},
   "source": [
    "### Setting X and Y for training and testing"
   ]
  },
  {
   "cell_type": "code",
   "execution_count": 58,
   "metadata": {},
   "outputs": [
    {
     "name": "stdout",
     "output_type": "stream",
     "text": [
      "X_train (1128, 5, 3)\n",
      "y_train (1128,)\n",
      "X_test (125, 5, 3)\n",
      "y_test (125,)\n"
     ]
    }
   ],
   "source": [
    "window = 5\n",
    "X_train, y_train, X_test, y_test = load_data(df[::-1], window)\n",
    "print(\"X_train\", X_train.shape)\n",
    "print(\"y_train\", y_train.shape)\n",
    "print(\"X_test\", X_test.shape)\n",
    "print(\"y_test\", y_test.shape)"
   ]
  },
  {
   "cell_type": "markdown",
   "metadata": {},
   "source": [
    "### Loading the model sequence structure\n"
   ]
  },
  {
   "cell_type": "code",
   "execution_count": 59,
   "metadata": {},
   "outputs": [],
   "source": [
    "model = build_model([3, window, 1])"
   ]
  },
  {
   "cell_type": "markdown",
   "metadata": {},
   "source": [
    "### Executing the model sequence structure"
   ]
  },
  {
   "cell_type": "code",
   "execution_count": 60,
   "metadata": {},
   "outputs": [
    {
     "data": {
      "text/plain": [
       "<keras.callbacks.History at 0x1604f577588>"
      ]
     },
     "execution_count": 60,
     "metadata": {},
     "output_type": "execute_result"
    }
   ],
   "source": [
    "model.fit(\n",
    "    X_train,\n",
    "    y_train,\n",
    "    batch_size=512,\n",
    "    epochs=500,\n",
    "    validation_split=0.1,\n",
    "    verbose=0)"
   ]
  },
  {
   "cell_type": "code",
   "execution_count": 61,
   "metadata": {},
   "outputs": [
    {
     "name": "stdout",
     "output_type": "stream",
     "text": [
      "Train Score: 0.00 MSE (0.02 RMSE)\n"
     ]
    }
   ],
   "source": [
    "trainScore = model.evaluate(X_train, y_train, verbose=0)\n",
    "print('Train Score: %.2f MSE (%.2f RMSE)' % (trainScore[0], math.sqrt(trainScore[0])))"
   ]
  },
  {
   "cell_type": "code",
   "execution_count": 62,
   "metadata": {},
   "outputs": [
    {
     "name": "stdout",
     "output_type": "stream",
     "text": [
      "Test Score: 0.00 MSE (0.01 RMSE)\n"
     ]
    }
   ],
   "source": [
    "testScore = model.evaluate(X_test, y_test, verbose=0)\n",
    "print('Test Score: %.2f MSE (%.2f RMSE)' % (testScore[0], math.sqrt(testScore[0])))"
   ]
  },
  {
   "cell_type": "code",
   "execution_count": 63,
   "metadata": {},
   "outputs": [
    {
     "name": "stdout",
     "output_type": "stream",
     "text": [
      "0 0.53843 0.5305016 0.01494509320767512 0.007928395919799769\n",
      "1 0.52662 0.5314425 -0.00907440182877639 0.004822523002624535\n",
      "2 0.5201699999999999 0.53255373 -0.02325348906949931 0.012383732395172209\n",
      "3 0.518 0.5313239 -0.02507681193107214 0.013323909759521468\n",
      "4 0.5225700000000001 0.52704775 -0.008495915798368503 0.00447775333404532\n",
      "5 0.5353300000000001 0.5226524 0.024256298605532578 0.012677612380981529\n",
      "6 0.53387 0.5207881 0.025119481656616705 0.013081926460266069\n",
      "7 0.53853 0.5234032 0.028900801296034118 0.015126772670745803\n",
      "8 0.53488 0.5275088 0.013973614856913397 0.0073712047386169655\n",
      "9 0.5363300000000001 0.5312741 0.009516593997733969 0.005055919723510827\n",
      "10 0.52298 0.53239536 -0.01768490770379949 0.009415362854003906\n",
      "11 0.5231 0.5317737 -0.0163108604857245 0.008673686408996573\n",
      "12 0.53444 0.52911526 0.01006347909183214 0.005324740352630641\n",
      "13 0.53751 0.5277899 0.0184166263960579 0.009720109233856244\n",
      "14 0.5455 0.5280787 0.03299001748368169 0.01742132472991942\n",
      "15 0.53937 0.5304595 0.016797656389015536 0.008910476799011247\n",
      "16 0.54334 0.53495413 0.015675866153703533 0.008385869350433395\n",
      "17 0.5639 0.5389317 0.046329194071871305 0.024968272590637164\n",
      "18 0.5487000000000001 0.5420355 0.01229528264550761 0.006664479923248368\n",
      "19 0.5452 0.5450224 0.0003258067102007711 0.00017757196426393396\n",
      "20 0.53776 0.54772824 -0.018199245087386462 0.009968240489959701\n",
      "21 0.54669 0.5489536 -0.0041234683715253295 0.002263592777252188\n",
      "22 0.56704 0.5481017 0.03455248543192457 0.018938276805877674\n",
      "23 0.55751 0.5469635 0.019281884172930308 0.010546487102508495\n",
      "24 0.5406299999999999 0.54897386 -0.015199008531036062 0.008343858356475886\n",
      "25 0.54525 0.5512224 -0.010834799437758114 0.005972383975982654\n",
      "26 0.5715 0.55532694 0.029123495090610074 0.016173061370849617\n",
      "27 0.5681176 0.5556707 0.022399816768163605 0.012446921384429932\n",
      "28 0.5680124 0.5566294 0.020449836602213667 0.011382980673217746\n",
      "29 0.5578123 0.5614968 -0.0065619149774110985 0.0036844942237853617\n",
      "30 0.5606350999999999 0.5672686 -0.011693772374613332 0.00663351000061041\n",
      "31 0.5576971 0.5657751 -0.0142777518268975 0.008077996416473443\n",
      "32 0.566551 0.5621357 0.007854515585927091 0.004415303588867214\n",
      "33 0.5799394 0.5614769 0.03288205477190642 0.018462513727569574\n",
      "34 0.579544 0.5639415 0.02766691555639733 0.015602521270751901\n",
      "35 0.5921115 0.56858504 0.04137720874607442 0.023526461814880384\n",
      "36 0.5991786 0.57597935 0.04027791607837061 0.023199248002624517\n",
      "37 0.6002246 0.58439094 0.027094297123317235 0.015833661717987058\n",
      "38 0.6062356 0.5901916 0.027184387611591143 0.016043997293090806\n",
      "39 0.596646 0.5954375 0.0020295551471383177 0.0012084732971191503\n",
      "40 0.5869864 0.59832466 -0.01895000709663519 0.011338256486511211\n",
      "41 0.5951245000000001 0.5972026 -0.0034797220439513055 0.0020780990486144457\n",
      "42 0.6042536000000001 0.59593236 0.013963389190451148 0.008321235536193905\n",
      "43 0.600595 0.5943227 0.0105537257268018 0.006272318572998037\n",
      "44 0.6063908 0.5942557 0.02042069513775191 0.012135114193725594\n",
      "45 0.6080023999999999 0.5971072 0.01824668752671732 0.010895227987670841\n",
      "46 0.6104148 0.6013232 0.015119344871467488 0.009091612648773228\n",
      "47 0.6097391 0.60343957 0.010439372632179422 0.006299530526733377\n",
      "48 0.6080625 0.6057705 0.0037835641985948243 0.0022919716835021475\n",
      "49 0.6019462999999999 0.6069235 -0.008200737648788703 0.004977220565033025\n",
      "50 0.6084328 0.60670304 0.002851076875242997 0.0017297570159912068\n",
      "51 0.6102146 0.60547143 0.007833842422061199 0.004743167790985159\n",
      "52 0.6106951 0.604621 0.010046139534656273 0.006074106862640427\n",
      "53 0.61061 0.60485387 0.009516565596125348 0.005756131515502916\n",
      "54 0.6068613 0.6057682 0.0018044794327403135 0.0010930962646484854\n",
      "55 0.6024969 0.60733527 -0.007966554380274826 0.0048383694511413555\n",
      "56 0.6026571000000001 0.60647595 -0.006296786033974655 0.003818849287414494\n",
      "57 0.6017712000000001 0.60492724 -0.005217225451465746 0.0031560418022155146\n",
      "58 0.6060454 0.6025572 0.005789023499154 0.0034882176879882376\n",
      "59 0.6020014 0.6008269 0.0019547741352432535 0.0011744809211731155\n",
      "60 0.6005499 0.5998663 0.0011396356388846396 0.0006836289810180363\n",
      "61 0.5939383 0.5989416 -0.008353609037541898 0.005003324164581269\n",
      "62 0.5956851000000001 0.5976421 -0.003274574568263189 0.001957023699188154\n",
      "63 0.5870515000000001 0.59555125 -0.014272075377823823 0.008499752365112245\n",
      "64 0.5893087 0.59246856 -0.005333379619924528 0.0031598597419738583\n",
      "65 0.58056 0.5897046 -0.01550704127243463 0.009144573154449498\n",
      "66 0.5721716 0.5868101 -0.024945909588422133 0.014638511999511716\n",
      "67 0.5696491 0.5829381 -0.022796546724310307 0.013288975065612774\n",
      "68 0.5672817 0.5782696 -0.019001346174392753 0.010987900868225098\n",
      "69 0.5910755000000001 0.57525265 0.027505910267576983 0.01582284783172616\n",
      "70 0.5682647 0.5738941 -0.009809098336713173 0.005629383499908491\n",
      "71 0.5540135 0.5745773 -0.035789393250715396 0.020563771938323927\n",
      "72 0.5620665 0.5747849 -0.022127191356476894 0.012718374916076636\n",
      "73 0.5511656 0.5731163 -0.038300607389559205 0.02195070249023434\n",
      "74 0.5624769 0.5668701 -0.007749912011963289 0.0043931933456421435\n",
      "75 0.58063 0.5602141 0.036443027137518014 0.020415897731780985\n",
      "76 0.5830925 0.5598161 0.04157861309799382 0.023276377944946303\n",
      "77 0.5824319 0.5647268 0.03135156600575173 0.01770507047119141\n",
      "78 0.5758403 0.57045275 0.009444340961458186 0.0053875502708434775\n",
      "79 0.5786880999999999 0.575855 0.004919785726310133 0.002833083291625904\n",
      "80 0.5748843 0.5775479 -0.0046119253367150614 0.0026636078292846532\n",
      "81 0.5752747 0.5767369 -0.0025353449101904735 0.0014622270324706754\n",
      "82 0.5620515 0.5746964 -0.022002784683284426 0.012644921623229943\n",
      "83 0.5656551 0.5722424 -0.011511344542287527 0.006587279188537631\n",
      "84 0.5656851 0.56996053 -0.0075012817787590835 0.004275434572601267\n",
      "85 0.5711856000000001 0.56780213 0.0059588871514053565 0.003383468824005198\n",
      "86 0.5699982 0.56618106 0.006741900414930502 0.003817136347961436\n",
      "87 0.5592187 0.5655072 -0.011120059713589425 0.00628847353820805\n",
      "88 0.5530525000000001 0.56541824 -0.02187008210712371 0.012365743408203067\n",
      "89 0.5571166 0.5635708 -0.011452327680335883 0.006454197443389931\n",
      "90 0.5609154 0.5604532 0.0008247317010043886 0.000462223501586867\n",
      "91 0.5552847000000001 0.5566011 -0.002365081750059894 0.0013164071205138406\n",
      "92 0.5597592 0.55445683 0.009563179111788278 0.005302369975280774\n",
      "93 0.5592887 0.5547367 0.008205742260767313 0.004552026168060275\n",
      "94 0.5564759 0.55536264 0.0020045608127297054 0.0011132581886291737\n",
      "95 0.5581075 0.5554962 0.004700813624502143 0.0026112841796874786\n",
      "96 0.5508603000000001 0.5551899 -0.007798426253660673 0.004329607550811687\n",
      "97 0.5436531 0.553928 -0.018549192836441408 0.010274917616271972\n",
      "98 0.5429174 0.5512142 -0.015051894284676237 0.008296818139648443\n",
      "99 0.5354648999999999 0.5476655 -0.022277425391721062 0.01220057679901132\n",
      "100 0.5370265000000001 0.54334134 -0.011622231156497631 0.0063148386344908936\n",
      "101 0.5309254 0.538597 -0.014243651374134858 0.0076715877243042074\n",
      "102 0.535515 0.5356111 -0.00017940824140683098 9.60930442810426e-05\n",
      "103 0.5391836 0.5340071 0.00969374343214624 0.005176527551269516\n",
      "104 0.5428723 0.5338231 0.01695173466436417 0.009049227089691136\n",
      "105 0.5396091000000001 0.5347628 0.009062523164513614 0.004846300260162417\n",
      "106 0.5354699 0.53629965 -0.001547168466487947 0.0008297459007262642\n",
      "107 0.5291987 0.5370191 -0.014562562751172736 0.007820373963165261\n",
      "108 0.5296191 0.5358452 -0.011619250961919736 0.006226120088958731\n",
      "109 0.5271566 0.5328277 -0.010643357327327019 0.005671075342559839\n",
      "110 0.5277672 0.52954066 -0.0033490497289463406 0.0017734579971313558\n",
      "111 0.5303247999999999 0.5271656 0.00599281958624287 0.003159208283233572\n",
      "112 0.5320866 0.52594143 0.011684130797307679 0.00614516847763058\n",
      "113 0.5297341999999999 0.5264977 0.006147183918789656 0.0032364783279418274\n",
      "114 0.5234880000000001 0.526993 -0.006650898248538706 0.003504976665496762\n",
      "115 0.5164609 0.5269116 -0.019833907626217284 0.010450716325378417\n",
      "116 0.517552 0.5248433 -0.013892291064276474 0.007291275547027576\n",
      "117 0.5116662 0.5216676 -0.019171977872906476 0.01000139967803959\n",
      "118 0.5131146 0.5176311 -0.00872535172472877 0.004516513529205346\n",
      "119 0.5162907999999999 0.51448905 0.003502009039337839 0.0018017453201293332\n",
      "120 0.5172968 0.5130166 0.008343236103306673 0.004280218464660646\n",
      "121 0.5181326 0.5131108 0.009786937558115216 0.005021783521270806\n",
      "122 0.5167512000000001 0.5136004 0.006134712733252723 0.0031507909690857705\n",
      "123 0.5063959 0.5140006 -0.014795108596359796 0.007604694615936269\n",
      "124 0.5058003 0.5130808 -0.014189726222530563 0.007280475737762471\n"
     ]
    }
   ],
   "source": [
    "diff=[]\n",
    "ratio=[]\n",
    "p = model.predict(X_test)\n",
    "for u in range(len(y_test)):\n",
    "    pr = p[u][0]\n",
    "    ratio.append((y_test[u]/pr)-1)\n",
    "    diff.append(abs(y_test[u]- pr))\n",
    "    print(u, y_test[u], pr, (y_test[u]/pr)-1, abs(y_test[u]- pr))"
   ]
  },
  {
   "cell_type": "code",
   "execution_count": 64,
   "metadata": {},
   "outputs": [
    {
     "data": {
      "image/png": "[encoded data removed]",
      "text/plain": [
       "<Figure size 432x288 with 1 Axes>"
      ]
     },
     "metadata": {
      "needs_background": "light"
     },
     "output_type": "display_data"
    }
   ],
   "source": [
    "#Prediction VS Real results\n",
    "import matplotlib.pyplot as plt2\n",
    "\n",
    "\n",
    "plt2.plot(p,color='red', label='prediction')\n",
    "plt2.plot(y_test,color='blue', label='y_test')\n",
    "plt2.legend(loc='upper left')\n",
    "plt2.show()"
   ]
  }
 ],
 "metadata": {
  "kernelspec": {
   "display_name": "Python 3",
   "language": "python",
   "name": "python3"
  },
  "language_info": {
   "codemirror_mode": {
    "name": "ipython",
    "version": 3
   },
   "file_extension": ".py",
   "mimetype": "text/x-python",
   "name": "python",
   "nbconvert_exporter": "python",
   "pygments_lexer": "ipython3",
   "version": "3.6.3"
  }
 },
 "nbformat": 4,
 "nbformat_minor": 2
}
